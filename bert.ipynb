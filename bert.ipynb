{
 "cells": [
  {
   "cell_type": "markdown",
   "metadata": {
    "papermill": {
     "duration": 0.019205,
     "end_time": "2020-12-13T15:35:21.052810",
     "exception": false,
     "start_time": "2020-12-13T15:35:21.033605",
     "status": "completed"
    },
    "tags": []
   },
   "source": [
    "# BERT for Spooky Author Identification\n",
    "\n",
    "### **References:**\n",
    "- Source for `bert_encode` function: https://www.kaggle.com/user123454321/bert-starter-inference\n",
    "- All pre-trained BERT models from Tensorflow Hub: https://tfhub.dev/s?q=bert\n",
    "- TF Hub Documentation for Bert Model: https://tfhub.dev/tensorflow/bert_en_uncased_L-24_H-1024_A-16/1"
   ]
  },
  {
   "cell_type": "code",
   "execution_count": 1,
   "metadata": {
    "execution": {
     "iopub.execute_input": "2020-12-13T15:35:21.097328Z",
     "iopub.status.busy": "2020-12-13T15:35:21.096539Z",
     "iopub.status.idle": "2020-12-13T15:35:22.282271Z",
     "shell.execute_reply": "2020-12-13T15:35:22.281028Z"
    },
    "papermill": {
     "duration": 1.211353,
     "end_time": "2020-12-13T15:35:22.282409",
     "exception": false,
     "start_time": "2020-12-13T15:35:21.071056",
     "status": "completed"
    },
    "tags": []
   },
   "outputs": [],
   "source": [
    "# We will use the official tokenization script created by the Google team\n",
    "!wget --quiet https://raw.githubusercontent.com/tensorflow/models/master/official/nlp/bert/tokenization.py"
   ]
  },
  {
   "cell_type": "code",
   "execution_count": 2,
   "metadata": {
    "_cell_guid": "b1076dfc-b9ad-4769-8c92-a6c4dae69d19",
    "_uuid": "8f2839f25d086af736a60e9eeb907d3b93b6e0e5",
    "execution": {
     "iopub.execute_input": "2020-12-13T15:35:22.332867Z",
     "iopub.status.busy": "2020-12-13T15:35:22.332109Z",
     "iopub.status.idle": "2020-12-13T15:35:31.608478Z",
     "shell.execute_reply": "2020-12-13T15:35:31.609196Z"
    },
    "papermill": {
     "duration": 9.308544,
     "end_time": "2020-12-13T15:35:31.609353",
     "exception": false,
     "start_time": "2020-12-13T15:35:22.300809",
     "status": "completed"
    },
    "tags": []
   },
   "outputs": [
    {
     "name": "stdout",
     "output_type": "stream",
     "text": [
      "Tensorflow Version:  2.3.1\n",
      "TF-Hub version:  0.10.0\n",
      "Eager mode enabled:  True\n",
      "GPU available:  True\n"
     ]
    },
    {
     "name": "stderr",
     "output_type": "stream",
     "text": [
      "/opt/conda/lib/python3.7/site-packages/nltk/twitter/__init__.py:20: UserWarning: The twython library has not been installed. Some functionality from the twitter package will not be available.\n",
      "  warnings.warn(\"The twython library has not been installed. \"\n"
     ]
    }
   ],
   "source": [
    "import tensorflow as tf\n",
    "from tensorflow.keras.layers import Dense, Input, Dropout, LSTM, Bidirectional, GlobalMaxPooling1D, GlobalAveragePooling1D, concatenate, SpatialDropout1D\n",
    "from tensorflow.keras.optimizers import Adam\n",
    "from tensorflow.keras.models import Model\n",
    "from tensorflow.keras.callbacks import ModelCheckpoint\n",
    "import tensorflow_hub as hub\n",
    "from tensorflow.keras import callbacks\n",
    "from keras.utils import to_categorical\n",
    "\n",
    "from sklearn.feature_extraction.text import TfidfVectorizer\n",
    "from sklearn.preprocessing import StandardScaler\n",
    "from nltk.sentiment.vader import SentimentIntensityAnalyzer\n",
    "from nltk import word_tokenize\n",
    "from scipy.sparse import hstack, csr_matrix\n",
    "from sklearn.model_selection import KFold\n",
    "from sklearn.metrics import f1_score, precision_score, recall_score, confusion_matrix\n",
    "from sklearn.metrics import classification_report, confusion_matrix, log_loss\n",
    "import pprint\n",
    "\n",
    "import tokenization\n",
    "\n",
    "import re\n",
    "import gc\n",
    "import os\n",
    "import time\n",
    "\n",
    "import numpy as np\n",
    "import pandas as pd\n",
    "import matplotlib.pyplot as plt\n",
    "import seaborn as sns\n",
    "\n",
    "sns.set_style(\"whitegrid\")\n",
    "notebookstart = time.time()\n",
    "pd.options.display.max_colwidth = 500\n",
    "\n",
    "print(\"Tensorflow Version: \", tf.__version__)\n",
    "print(\"TF-Hub version: \", hub.__version__)\n",
    "print(\"Eager mode enabled: \", tf.executing_eagerly())\n",
    "print(\"GPU available: \", tf.test.is_gpu_available())"
   ]
  },
  {
   "cell_type": "code",
   "execution_count": 3,
   "metadata": {
    "execution": {
     "iopub.execute_input": "2020-12-13T15:35:31.659344Z",
     "iopub.status.busy": "2020-12-13T15:35:31.658598Z",
     "iopub.status.idle": "2020-12-13T15:35:31.662375Z",
     "shell.execute_reply": "2020-12-13T15:35:31.661802Z"
    },
    "papermill": {
     "duration": 0.033314,
     "end_time": "2020-12-13T15:35:31.662493",
     "exception": false,
     "start_time": "2020-12-13T15:35:31.629179",
     "status": "completed"
    },
    "tags": []
   },
   "outputs": [],
   "source": [
    "MAX_LEN = 64\n",
    "BATCH_SIZE = 16\n",
    "EPOCHS = 10\n",
    "SEED = 42\n",
    "NROWS = None\n",
    "TEXTCOL = \"text\"\n",
    "TARGETCOL = \"author\"\n",
    "NCLASS = 3"
   ]
  },
  {
   "cell_type": "markdown",
   "metadata": {
    "papermill": {
     "duration": 0.018458,
     "end_time": "2020-12-13T15:35:31.699791",
     "exception": false,
     "start_time": "2020-12-13T15:35:31.681333",
     "status": "completed"
    },
    "tags": []
   },
   "source": [
    "# Helper Functions"
   ]
  },
  {
   "cell_type": "code",
   "execution_count": 4,
   "metadata": {
    "execution": {
     "iopub.execute_input": "2020-12-13T15:35:31.766833Z",
     "iopub.status.busy": "2020-12-13T15:35:31.764712Z",
     "iopub.status.idle": "2020-12-13T15:35:31.767634Z",
     "shell.execute_reply": "2020-12-13T15:35:31.768133Z"
    },
    "papermill": {
     "duration": 0.050026,
     "end_time": "2020-12-13T15:35:31.768251",
     "exception": false,
     "start_time": "2020-12-13T15:35:31.718225",
     "status": "completed"
    },
    "tags": []
   },
   "outputs": [],
   "source": [
    "def bert_encode(texts, tokenizer, max_len=512):\n",
    "    all_tokens = []\n",
    "    all_masks = []\n",
    "    all_segments = []\n",
    "    \n",
    "    for text in texts:\n",
    "        text = tokenizer.tokenize(text)\n",
    "            \n",
    "        text = text[:max_len-2]\n",
    "        input_sequence = [\"[CLS]\"] + text + [\"[SEP]\"]\n",
    "        pad_len = max_len - len(input_sequence)\n",
    "        \n",
    "        tokens = tokenizer.convert_tokens_to_ids(input_sequence)\n",
    "        tokens += [0] * pad_len\n",
    "        pad_masks = [1] * len(input_sequence) + [0] * pad_len\n",
    "        segment_ids = [0] * max_len\n",
    "        \n",
    "        all_tokens.append(tokens)\n",
    "        all_masks.append(pad_masks)\n",
    "        all_segments.append(segment_ids)\n",
    "    \n",
    "    return np.array(all_tokens), np.array(all_masks), np.array(all_segments)\n",
    "\n",
    "def text_processing(df, TEXTCOL, sentiment=False):\n",
    "    df[TEXTCOL + '_num_words'] = df[TEXTCOL].apply(lambda comment: len(comment.split())) # Count number of Words\n",
    "    df[TEXTCOL + '_num_unique_words'] = df[TEXTCOL].apply(lambda comment: len(set(w for w in comment.split())))\n",
    "    df[TEXTCOL + '_words_vs_unique'] = df[TEXTCOL+'_num_unique_words'] / df[TEXTCOL+'_num_words'] * 100 # Count Unique Words\n",
    "    \n",
    "    col_names = [TEXTCOL + '_num_words', TEXTCOL + '_num_unique_words', TEXTCOL + '_words_vs_unique']\n",
    "    if sentiment:\n",
    "        df[TEXTCOL+\"_vader_Compound\"]= df[TEXTCOL].apply(lambda x:SIA.polarity_scores(x)['compound'])\n",
    "        col_names.append(TEXTCOL+\"_vader_Compound\")\n",
    "\n",
    "    return df, col_names\n",
    "\n",
    "def build_model(bert_layer, max_len=512, dropout=.2):\n",
    "    input_word_ids = Input(shape=(max_len,), dtype=tf.int32, name=\"input_word_ids\")\n",
    "    input_mask = Input(shape=(max_len,), dtype=tf.int32, name=\"input_mask\")\n",
    "    segment_ids = Input(shape=(max_len,), dtype=tf.int32, name=\"segment_ids\")\n",
    "    numeric_inputs = Input(shape=(len(num_cols),), dtype=tf.float32, name=\"numeric_inputs\")\n",
    "    \n",
    "    # Bert Layer\n",
    "    pooled_output, sequence_output = bert_layer([input_word_ids, input_mask, segment_ids])\n",
    "    \n",
    "    # Sequence Output\n",
    "    sequence_output = SpatialDropout1D(dropout)(sequence_output)\n",
    "    sequence_output = Bidirectional(LSTM(128, return_sequences=True))(sequence_output)\n",
    "    sequence_output = GlobalAveragePooling1D()(sequence_output)\n",
    "    \n",
    "    # Pooled Output\n",
    "    pooled_output = Dense(36, activation='relu')(pooled_output)\n",
    "    \n",
    "    # Dense Inputs\n",
    "    numeric_x = Dense(512, activation='relu')(numeric_inputs)\n",
    "    numeric_x = Dropout(dropout)(numeric_x)\n",
    "    numeric_x = Dense(64, activation='relu')(numeric_x)\n",
    "    \n",
    "    # Concatenate\n",
    "    cat = concatenate([\n",
    "        pooled_output,\n",
    "        sequence_output,\n",
    "        numeric_x\n",
    "    ])\n",
    "    cat = Dropout(dropout)(cat)\n",
    "    \n",
    "    # Output Layer\n",
    "    out = Dense(3, activation='softmax')(cat)\n",
    "    \n",
    "    model = Model(inputs=[input_word_ids, input_mask, segment_ids, numeric_inputs], outputs=out)\n",
    "    model.compile(Adam(lr=1e-6), loss='categorical_crossentropy', metrics=['acc'])\n",
    "    \n",
    "    return model"
   ]
  },
  {
   "cell_type": "code",
   "execution_count": 5,
   "metadata": {
    "execution": {
     "iopub.execute_input": "2020-12-13T15:35:31.810319Z",
     "iopub.status.busy": "2020-12-13T15:35:31.809629Z",
     "iopub.status.idle": "2020-12-13T15:36:08.013271Z",
     "shell.execute_reply": "2020-12-13T15:36:08.013910Z"
    },
    "papermill": {
     "duration": 36.227214,
     "end_time": "2020-12-13T15:36:08.014054",
     "exception": false,
     "start_time": "2020-12-13T15:35:31.786840",
     "status": "completed"
    },
    "tags": []
   },
   "outputs": [
    {
     "name": "stdout",
     "output_type": "stream",
     "text": [
      "CPU times: user 27.3 s, sys: 6.34 s, total: 33.6 s\n",
      "Wall time: 36.2 s\n"
     ]
    }
   ],
   "source": [
    "%%time\n",
    "module_url = \"https://tfhub.dev/tensorflow/bert_en_uncased_L-24_H-1024_A-16/1\"\n",
    "bert_layer = hub.KerasLayer(module_url, trainable=True)"
   ]
  },
  {
   "cell_type": "code",
   "execution_count": 6,
   "metadata": {
    "execution": {
     "iopub.execute_input": "2020-12-13T15:36:08.060511Z",
     "iopub.status.busy": "2020-12-13T15:36:08.059866Z",
     "iopub.status.idle": "2020-12-13T15:36:08.329860Z",
     "shell.execute_reply": "2020-12-13T15:36:08.330670Z"
    },
    "papermill": {
     "duration": 0.297777,
     "end_time": "2020-12-13T15:36:08.330887",
     "exception": false,
     "start_time": "2020-12-13T15:36:08.033110",
     "status": "completed"
    },
    "tags": []
   },
   "outputs": [
    {
     "name": "stdout",
     "output_type": "stream",
     "text": [
      "Train Shape: 19579 Rows, 3 Columns\n",
      "Test Shape: 8392 Rows, 2 Columns\n",
      "Train Sequence Length - Mean 148.7 +/- 107.7, Max 4663.0, Min 21.0\n"
     ]
    }
   ],
   "source": [
    "train = pd.read_csv(\"../input/spooky-author-identification/train.zip\", nrows=NROWS)\n",
    "test = pd.read_csv(\"../input/spooky-author-identification/test.zip\")\n",
    "testdex = test.id\n",
    "submission = pd.read_csv(\"../input/spooky-author-identification/sample_submission.zip\")\n",
    "sub_cols = submission.columns\n",
    "\n",
    "print(\"Train Shape: {} Rows, {} Columns\".format(*train.shape))\n",
    "print(\"Test Shape: {} Rows, {} Columns\".format(*test.shape))\n",
    "\n",
    "length_info = [len(x) for x in np.concatenate([train[TEXTCOL].values, test[TEXTCOL].values])]\n",
    "print(\"Train Sequence Length - Mean {:.1f} +/- {:.1f}, Max {:.1f}, Min {:.1f}\".format(\n",
    "    np.mean(length_info), np.std(length_info), np.max(length_info), np.min(length_info)))"
   ]
  },
  {
   "cell_type": "code",
   "execution_count": 7,
   "metadata": {
    "execution": {
     "iopub.execute_input": "2020-12-13T15:36:08.383865Z",
     "iopub.status.busy": "2020-12-13T15:36:08.382858Z",
     "iopub.status.idle": "2020-12-13T15:36:08.392012Z",
     "shell.execute_reply": "2020-12-13T15:36:08.392537Z"
    },
    "papermill": {
     "duration": 0.041299,
     "end_time": "2020-12-13T15:36:08.392649",
     "exception": false,
     "start_time": "2020-12-13T15:36:08.351350",
     "status": "completed"
    },
    "tags": []
   },
   "outputs": [
    {
     "data": {
      "text/html": [
       "<div>\n",
       "<style scoped>\n",
       "    .dataframe tbody tr th:only-of-type {\n",
       "        vertical-align: middle;\n",
       "    }\n",
       "\n",
       "    .dataframe tbody tr th {\n",
       "        vertical-align: top;\n",
       "    }\n",
       "\n",
       "    .dataframe thead th {\n",
       "        text-align: right;\n",
       "    }\n",
       "</style>\n",
       "<table border=\"1\" class=\"dataframe\">\n",
       "  <thead>\n",
       "    <tr style=\"text-align: right;\">\n",
       "      <th></th>\n",
       "      <th>id</th>\n",
       "      <th>text</th>\n",
       "      <th>author</th>\n",
       "    </tr>\n",
       "  </thead>\n",
       "  <tbody>\n",
       "    <tr>\n",
       "      <th>0</th>\n",
       "      <td>id26305</td>\n",
       "      <td>This process, however, afforded me no means of ascertaining the dimensions of my dungeon; as I might make its circuit, and return to the point whence I set out, without being aware of the fact; so perfectly uniform seemed the wall.</td>\n",
       "      <td>EAP</td>\n",
       "    </tr>\n",
       "    <tr>\n",
       "      <th>1</th>\n",
       "      <td>id17569</td>\n",
       "      <td>It never once occurred to me that the fumbling might be a mere mistake.</td>\n",
       "      <td>HPL</td>\n",
       "    </tr>\n",
       "    <tr>\n",
       "      <th>2</th>\n",
       "      <td>id11008</td>\n",
       "      <td>In his left hand was a gold snuff box, from which, as he capered down the hill, cutting all manner of fantastic steps, he took snuff incessantly with an air of the greatest possible self satisfaction.</td>\n",
       "      <td>EAP</td>\n",
       "    </tr>\n",
       "    <tr>\n",
       "      <th>3</th>\n",
       "      <td>id27763</td>\n",
       "      <td>How lovely is spring As we looked from Windsor Terrace on the sixteen fertile counties spread beneath, speckled by happy cottages and wealthier towns, all looked as in former years, heart cheering and fair.</td>\n",
       "      <td>MWS</td>\n",
       "    </tr>\n",
       "    <tr>\n",
       "      <th>4</th>\n",
       "      <td>id12958</td>\n",
       "      <td>Finding nothing else, not even gold, the Superintendent abandoned his attempts; but a perplexed look occasionally steals over his countenance as he sits thinking at his desk.</td>\n",
       "      <td>HPL</td>\n",
       "    </tr>\n",
       "  </tbody>\n",
       "</table>\n",
       "</div>"
      ],
      "text/plain": [
       "        id  \\\n",
       "0  id26305   \n",
       "1  id17569   \n",
       "2  id11008   \n",
       "3  id27763   \n",
       "4  id12958   \n",
       "\n",
       "                                                                                                                                                                                                                                      text  \\\n",
       "0  This process, however, afforded me no means of ascertaining the dimensions of my dungeon; as I might make its circuit, and return to the point whence I set out, without being aware of the fact; so perfectly uniform seemed the wall.   \n",
       "1                                                                                                                                                                  It never once occurred to me that the fumbling might be a mere mistake.   \n",
       "2                                 In his left hand was a gold snuff box, from which, as he capered down the hill, cutting all manner of fantastic steps, he took snuff incessantly with an air of the greatest possible self satisfaction.   \n",
       "3                           How lovely is spring As we looked from Windsor Terrace on the sixteen fertile counties spread beneath, speckled by happy cottages and wealthier towns, all looked as in former years, heart cheering and fair.   \n",
       "4                                                           Finding nothing else, not even gold, the Superintendent abandoned his attempts; but a perplexed look occasionally steals over his countenance as he sits thinking at his desk.   \n",
       "\n",
       "  author  \n",
       "0    EAP  \n",
       "1    HPL  \n",
       "2    EAP  \n",
       "3    MWS  \n",
       "4    HPL  "
      ]
     },
     "execution_count": 7,
     "metadata": {},
     "output_type": "execute_result"
    }
   ],
   "source": [
    "train.head()"
   ]
  },
  {
   "cell_type": "code",
   "execution_count": 8,
   "metadata": {
    "execution": {
     "iopub.execute_input": "2020-12-13T15:36:08.441573Z",
     "iopub.status.busy": "2020-12-13T15:36:08.440771Z",
     "iopub.status.idle": "2020-12-13T15:36:22.361988Z",
     "shell.execute_reply": "2020-12-13T15:36:22.361371Z"
    },
    "papermill": {
     "duration": 13.948688,
     "end_time": "2020-12-13T15:36:22.362113",
     "exception": false,
     "start_time": "2020-12-13T15:36:08.413425",
     "status": "completed"
    },
    "tags": []
   },
   "outputs": [],
   "source": [
    "# Text Processing\n",
    "SIA = SentimentIntensityAnalyzer()\n",
    "train_df, dense_vars = text_processing(train.copy(), TEXTCOL, sentiment=True)\n",
    "test_df, _ = text_processing(test.copy(), TEXTCOL, sentiment=True)"
   ]
  },
  {
   "cell_type": "code",
   "execution_count": 9,
   "metadata": {
    "execution": {
     "iopub.execute_input": "2020-12-13T15:36:22.416454Z",
     "iopub.status.busy": "2020-12-13T15:36:22.415629Z",
     "iopub.status.idle": "2020-12-13T15:36:40.556974Z",
     "shell.execute_reply": "2020-12-13T15:36:40.556003Z"
    },
    "papermill": {
     "duration": 18.17461,
     "end_time": "2020-12-13T15:36:40.557104",
     "exception": false,
     "start_time": "2020-12-13T15:36:22.382494",
     "status": "completed"
    },
    "tags": []
   },
   "outputs": [
    {
     "name": "stderr",
     "output_type": "stream",
     "text": [
      "/opt/conda/lib/python3.7/site-packages/sklearn/feature_extraction/text.py:484: UserWarning: The parameter 'token_pattern' will not be used since 'tokenizer' is not None'\n",
      "  warnings.warn(\"The parameter 'token_pattern' will not be used\"\n"
     ]
    },
    {
     "name": "stdout",
     "output_type": "stream",
     "text": [
      "Number of TF-IDF Features: 500\n"
     ]
    }
   ],
   "source": [
    "# TF-IDF\n",
    "count_vectorizer = TfidfVectorizer(\n",
    "    analyzer=\"word\",\n",
    "    tokenizer=word_tokenize,\n",
    "    preprocessor=None,\n",
    "    stop_words='english',\n",
    "    sublinear_tf=True,\n",
    "    ngram_range=(1, 1),\n",
    "    max_features=500)    \n",
    "\n",
    "hash_loc_tfidf = count_vectorizer.fit(train_df[TEXTCOL])\n",
    "tfvocab = hash_loc_tfidf.get_feature_names()\n",
    "print(\"Number of TF-IDF Features: {}\".format(len(tfvocab)))\n",
    "\n",
    "train_tfidf = count_vectorizer.transform(train_df[TEXTCOL])\n",
    "test_tfidf = count_vectorizer.transform(test_df[TEXTCOL])\n",
    "\n",
    "# Normalisation - Standard Scaler\n",
    "for d_i in dense_vars:\n",
    "    scaler = StandardScaler()\n",
    "    scaler.fit(train_df.loc[:,d_i].values.reshape(-1, 1))\n",
    "    train_df.loc[:,d_i] = scaler.transform(train_df.loc[:,d_i].values.reshape(-1, 1))\n",
    "    test_df.loc[:,d_i] = scaler.transform(test_df.loc[:,d_i].values.reshape(-1, 1))\n",
    "    \n",
    "# Sparse Stack\n",
    "train_num = hstack([csr_matrix(train_df.loc[:,dense_vars].values),train_tfidf]).toarray()\n",
    "test_num = hstack([csr_matrix(test_df.loc[:,dense_vars].values),test_tfidf]).toarray()\n",
    "num_cols = train_df[dense_vars].columns.tolist() + tfvocab"
   ]
  },
  {
   "cell_type": "code",
   "execution_count": 10,
   "metadata": {
    "execution": {
     "iopub.execute_input": "2020-12-13T15:36:40.609036Z",
     "iopub.status.busy": "2020-12-13T15:36:40.608389Z",
     "iopub.status.idle": "2020-12-13T15:37:08.129177Z",
     "shell.execute_reply": "2020-12-13T15:37:08.130521Z"
    },
    "papermill": {
     "duration": 27.552177,
     "end_time": "2020-12-13T15:37:08.130780",
     "exception": false,
     "start_time": "2020-12-13T15:36:40.578603",
     "status": "completed"
    },
    "tags": []
   },
   "outputs": [],
   "source": [
    "# Bert Pre-Processing\n",
    "vocab_file = bert_layer.resolved_object.vocab_file.asset_path.numpy()\n",
    "do_lower_case = bert_layer.resolved_object.do_lower_case.numpy()\n",
    "tokenizer = tokenization.FullTokenizer(vocab_file, do_lower_case)\n",
    "\n",
    "train_input_word_ids, train_input_mask, train_segment_ids, train_numeric_inputs = *bert_encode(train[TEXTCOL].values, tokenizer, max_len=MAX_LEN), train_num\n",
    "test_input = (*bert_encode(test[TEXTCOL].values, tokenizer, max_len=MAX_LEN), test_num)\n",
    "\n",
    "label_mapper = {name: i for i,name in enumerate(set(train[TARGETCOL].values))}\n",
    "num_label = np.vectorize(label_mapper.get)(train[TARGETCOL].values)\n",
    "train_labels = to_categorical(num_label)\n",
    "\n",
    "del test, train_num, test_num, train_df, test_df\n",
    "_ = gc.collect()"
   ]
  },
  {
   "cell_type": "code",
   "execution_count": 11,
   "metadata": {
    "execution": {
     "iopub.execute_input": "2020-12-13T15:37:08.213564Z",
     "iopub.status.busy": "2020-12-13T15:37:08.212798Z",
     "iopub.status.idle": "2020-12-13T15:37:08.498036Z",
     "shell.execute_reply": "2020-12-13T15:37:08.498718Z"
    },
    "papermill": {
     "duration": 0.333376,
     "end_time": "2020-12-13T15:37:08.499001",
     "exception": false,
     "start_time": "2020-12-13T15:37:08.165625",
     "status": "completed"
    },
    "tags": []
   },
   "outputs": [
    {
     "data": {
      "image/png": "[encoded data removed]",
      "text/plain": [
       "<Figure size 432x288 with 1 Axes>"
      ]
     },
     "metadata": {},
     "output_type": "display_data"
    }
   ],
   "source": [
    "sns.countplot(train[TARGETCOL].values)\n",
    "plt.title(\"Spooky Authors\")\n",
    "plt.show()"
   ]
  },
  {
   "cell_type": "markdown",
   "metadata": {
    "papermill": {
     "duration": 0.032901,
     "end_time": "2020-12-13T15:37:08.566326",
     "exception": false,
     "start_time": "2020-12-13T15:37:08.533425",
     "status": "completed"
    },
    "tags": []
   },
   "source": [
    "# Model: Build, Train, Predict, Submit"
   ]
  },
  {
   "cell_type": "code",
   "execution_count": 12,
   "metadata": {
    "execution": {
     "iopub.execute_input": "2020-12-13T15:37:08.646967Z",
     "iopub.status.busy": "2020-12-13T15:37:08.646013Z",
     "iopub.status.idle": "2020-12-13T15:37:11.682540Z",
     "shell.execute_reply": "2020-12-13T15:37:11.681935Z"
    },
    "papermill": {
     "duration": 3.083799,
     "end_time": "2020-12-13T15:37:11.682654",
     "exception": false,
     "start_time": "2020-12-13T15:37:08.598855",
     "status": "completed"
    },
    "tags": []
   },
   "outputs": [
    {
     "name": "stdout",
     "output_type": "stream",
     "text": [
      "Model: \"functional_1\"\n",
      "__________________________________________________________________________________________________\n",
      "Layer (type)                    Output Shape         Param #     Connected to                     \n",
      "==================================================================================================\n",
      "input_word_ids (InputLayer)     [(None, 64)]         0                                            \n",
      "__________________________________________________________________________________________________\n",
      "input_mask (InputLayer)         [(None, 64)]         0                                            \n",
      "__________________________________________________________________________________________________\n",
      "segment_ids (InputLayer)        [(None, 64)]         0                                            \n",
      "__________________________________________________________________________________________________\n",
      "keras_layer (KerasLayer)        [(None, 1024), (None 335141889   input_word_ids[0][0]             \n",
      "                                                                 input_mask[0][0]                 \n",
      "                                                                 segment_ids[0][0]                \n",
      "__________________________________________________________________________________________________\n",
      "numeric_inputs (InputLayer)     [(None, 504)]        0                                            \n",
      "__________________________________________________________________________________________________\n",
      "spatial_dropout1d (SpatialDropo (None, None, 1024)   0           keras_layer[0][1]                \n",
      "__________________________________________________________________________________________________\n",
      "dense_1 (Dense)                 (None, 512)          258560      numeric_inputs[0][0]             \n",
      "__________________________________________________________________________________________________\n",
      "bidirectional (Bidirectional)   (None, None, 256)    1180672     spatial_dropout1d[0][0]          \n",
      "__________________________________________________________________________________________________\n",
      "dropout (Dropout)               (None, 512)          0           dense_1[0][0]                    \n",
      "__________________________________________________________________________________________________\n",
      "dense (Dense)                   (None, 36)           36900       keras_layer[0][0]                \n",
      "__________________________________________________________________________________________________\n",
      "global_average_pooling1d (Globa (None, 256)          0           bidirectional[0][0]              \n",
      "__________________________________________________________________________________________________\n",
      "dense_2 (Dense)                 (None, 64)           32832       dropout[0][0]                    \n",
      "__________________________________________________________________________________________________\n",
      "concatenate (Concatenate)       (None, 356)          0           dense[0][0]                      \n",
      "                                                                 global_average_pooling1d[0][0]   \n",
      "                                                                 dense_2[0][0]                    \n",
      "__________________________________________________________________________________________________\n",
      "dropout_1 (Dropout)             (None, 356)          0           concatenate[0][0]                \n",
      "__________________________________________________________________________________________________\n",
      "dense_3 (Dense)                 (None, 3)            1071        dropout_1[0][0]                  \n",
      "==================================================================================================\n",
      "Total params: 336,651,924\n",
      "Trainable params: 336,651,923\n",
      "Non-trainable params: 1\n",
      "__________________________________________________________________________________________________\n"
     ]
    }
   ],
   "source": [
    "model = build_model(bert_layer, max_len=MAX_LEN)\n",
    "model.summary()"
   ]
  },
  {
   "cell_type": "code",
   "execution_count": 13,
   "metadata": {
    "execution": {
     "iopub.execute_input": "2020-12-13T15:37:11.751393Z",
     "iopub.status.busy": "2020-12-13T15:37:11.748754Z",
     "iopub.status.idle": "2020-12-13T17:27:01.973479Z",
     "shell.execute_reply": "2020-12-13T17:27:01.972888Z"
    },
    "papermill": {
     "duration": 6590.267462,
     "end_time": "2020-12-13T17:27:01.973592",
     "exception": false,
     "start_time": "2020-12-13T15:37:11.706130",
     "status": "completed"
    },
    "tags": []
   },
   "outputs": [
    {
     "name": "stdout",
     "output_type": "stream",
     "text": [
      "Epoch 1/10\n",
      "726/726 [==============================] - 386s 531ms/step - loss: 0.9395 - acc: 0.5427 - val_loss: 0.7002 - val_acc: 0.7164\n",
      "Epoch 2/10\n",
      "726/726 [==============================] - 381s 525ms/step - loss: 0.5949 - acc: 0.7608 - val_loss: 0.5326 - val_acc: 0.7838\n",
      "Epoch 3/10\n",
      "726/726 [==============================] - 381s 524ms/step - loss: 0.4435 - acc: 0.8267 - val_loss: 0.4746 - val_acc: 0.8083\n",
      "Epoch 4/10\n",
      "726/726 [==============================] - 381s 524ms/step - loss: 0.3444 - acc: 0.8721 - val_loss: 0.4671 - val_acc: 0.8223\n",
      "Epoch 5/10\n",
      "726/726 [==============================] - 380s 524ms/step - loss: 0.2634 - acc: 0.9068 - val_loss: 0.4534 - val_acc: 0.8299\n",
      "Epoch 6/10\n",
      "726/726 [==============================] - 381s 524ms/step - loss: 0.1876 - acc: 0.9377 - val_loss: 0.4784 - val_acc: 0.8365\n",
      "Epoch 7/10\n",
      "726/726 [==============================] - ETA: 0s - loss: 0.1248 - acc: 0.9650Restoring model weights from the end of the best epoch.\n",
      "726/726 [==============================] - 380s 524ms/step - loss: 0.1248 - acc: 0.9650 - val_loss: 0.5127 - val_acc: 0.8365\n",
      "Epoch 00007: early stopping\n",
      "{'acc': 0.9068341851234436,\n",
      " 'loss': 0.26337406039237976,\n",
      " 'val_acc': 0.8299371600151062,\n",
      " 'val_loss': 0.4533748924732208}\n"
     ]
    },
    {
     "data": {
      "image/png": "[encoded data removed]",
      "text/plain": [
       "<Figure size 864x288 with 2 Axes>"
      ]
     },
     "metadata": {},
     "output_type": "display_data"
    },
    {
     "name": "stdout",
     "output_type": "stream",
     "text": [
      "Epoch 1/10\n",
      "726/726 [==============================] - 383s 528ms/step - loss: 0.4466 - acc: 0.8414 - val_loss: 0.2287 - val_acc: 0.9278\n",
      "Epoch 2/10\n",
      "726/726 [==============================] - 380s 524ms/step - loss: 0.2682 - acc: 0.9085 - val_loss: 0.2225 - val_acc: 0.9225\n",
      "Epoch 3/10\n",
      "726/726 [==============================] - 380s 524ms/step - loss: 0.1845 - acc: 0.9411 - val_loss: 0.2019 - val_acc: 0.9335\n",
      "Epoch 4/10\n",
      "726/726 [==============================] - 380s 523ms/step - loss: 0.1288 - acc: 0.9633 - val_loss: 0.2057 - val_acc: 0.9332\n",
      "Epoch 5/10\n",
      "726/726 [==============================] - ETA: 0s - loss: 0.0803 - acc: 0.9802Restoring model weights from the end of the best epoch.\n",
      "726/726 [==============================] - 380s 524ms/step - loss: 0.0803 - acc: 0.9802 - val_loss: 0.2149 - val_acc: 0.9332\n",
      "Epoch 00005: early stopping\n",
      "{'acc': 0.9410863518714905,\n",
      " 'loss': 0.18450763821601868,\n",
      " 'val_acc': 0.9334967732429504,\n",
      " 'val_loss': 0.2019120454788208}\n"
     ]
    },
    {
     "data": {
      "image/png": "[encoded data removed]",
      "text/plain": [
       "<Figure size 864x288 with 2 Axes>"
      ]
     },
     "metadata": {},
     "output_type": "display_data"
    },
    {
     "name": "stdout",
     "output_type": "stream",
     "text": [
      "Epoch 1/10\n",
      "726/726 [==============================] - 384s 528ms/step - loss: 0.3078 - acc: 0.9006 - val_loss: 0.1035 - val_acc: 0.9703\n",
      "Epoch 2/10\n",
      "726/726 [==============================] - 381s 525ms/step - loss: 0.1562 - acc: 0.9540 - val_loss: 0.0787 - val_acc: 0.9778\n",
      "Epoch 3/10\n",
      "726/726 [==============================] - 379s 522ms/step - loss: 0.0916 - acc: 0.9770 - val_loss: 0.0806 - val_acc: 0.9749\n",
      "Epoch 4/10\n",
      "726/726 [==============================] - ETA: 0s - loss: 0.0533 - acc: 0.9890Restoring model weights from the end of the best epoch.\n",
      "726/726 [==============================] - 380s 523ms/step - loss: 0.0533 - acc: 0.9890 - val_loss: 0.0816 - val_acc: 0.9753\n",
      "Epoch 00004: early stopping\n",
      "{'acc': 0.9539569616317749,\n",
      " 'loss': 0.15615476667881012,\n",
      " 'val_acc': 0.9777811765670776,\n",
      " 'val_loss': 0.07867418229579926}\n"
     ]
    },
    {
     "data": {
      "image/png": "[encoded data removed]",
      "text/plain": [
       "<Figure size 864x288 with 2 Axes>"
      ]
     },
     "metadata": {},
     "output_type": "display_data"
    }
   ],
   "source": [
    "oof_preds = np.zeros((train_input_word_ids.shape[0], NCLASS))\n",
    "test_preds = np.zeros((testdex.shape[0], NCLASS))\n",
    "\n",
    "n_splits = 3\n",
    "folds = KFold(n_splits=n_splits, shuffle=True, random_state=SEED)\n",
    "plot_metrics = ['loss','acc']\n",
    "\n",
    "fold_hist = {}\n",
    "for i, (trn_idx, val_idx) in enumerate(folds.split(train_input_word_ids)):\n",
    "    modelstart = time.time()\n",
    "    model = build_model(bert_layer, max_len=MAX_LEN)\n",
    "    \n",
    "    es = callbacks.EarlyStopping(monitor='val_loss', min_delta=0.0001, patience=2, verbose=1,\n",
    "                                 mode='min', baseline=None, restore_best_weights=True)\n",
    "    \n",
    "    \n",
    "    history = model.fit(\n",
    "        x=[train_input_word_ids[trn_idx],\n",
    "            train_input_mask[trn_idx],\n",
    "            train_segment_ids[trn_idx],\n",
    "            train_numeric_inputs[trn_idx]],\n",
    "        y=train_labels[trn_idx],\n",
    "        validation_data=(\n",
    "            [train_input_word_ids[val_idx],\n",
    "            train_input_mask[val_idx],\n",
    "            train_segment_ids[val_idx],\n",
    "            train_numeric_inputs[val_idx]],\n",
    "            train_labels[val_idx]),\n",
    "        epochs=EPOCHS,\n",
    "        batch_size=18,\n",
    "        callbacks=[es]\n",
    "    )\n",
    "\n",
    "    best_index = np.argmin(history.history['val_loss'])\n",
    "    fold_hist[i] = history\n",
    "    \n",
    "    oof_preds[val_idx] = model.predict(\n",
    "        [train_input_word_ids[val_idx],\n",
    "        train_input_mask[val_idx],\n",
    "        train_segment_ids[val_idx],\n",
    "        train_numeric_inputs[val_idx]])\n",
    "    test_preds += model.predict(test_input)\n",
    "    best_metrics = {metric: scores[best_index] for metric, scores in history.history.items()}\n",
    "    pprint.pprint(best_metrics)\n",
    "    \n",
    "    f, ax = plt.subplots(1,len(plot_metrics),figsize = [12,4])\n",
    "    for p_i,metric in enumerate(plot_metrics):\n",
    "        ax[p_i].plot(history.history[metric], label='Train ' + metric)\n",
    "        ax[p_i].plot(history.history['val_' + metric], label='Val ' + metric)\n",
    "        ax[p_i].set_title(\"{} Fold Loss Curve - {}\\nBest Epoch {}\".format(i, metric, best_index))\n",
    "        ax[p_i].legend()\n",
    "        ax[p_i].axvline(x=best_index, c='black')\n",
    "    plt.show()"
   ]
  },
  {
   "cell_type": "code",
   "execution_count": 14,
   "metadata": {
    "execution": {
     "iopub.execute_input": "2020-12-13T17:27:11.164947Z",
     "iopub.status.busy": "2020-12-13T17:27:11.164014Z",
     "iopub.status.idle": "2020-12-13T17:27:11.600483Z",
     "shell.execute_reply": "2020-12-13T17:27:11.600985Z"
    },
    "papermill": {
     "duration": 4.583518,
     "end_time": "2020-12-13T17:27:11.601135",
     "exception": false,
     "start_time": "2020-12-13T17:27:07.017617",
     "status": "completed"
    },
    "tags": []
   },
   "outputs": [
    {
     "data": {
      "image/png": "[encoded data removed]",
      "text/plain": [
       "<Figure size 432x288 with 1 Axes>"
      ]
     },
     "metadata": {},
     "output_type": "display_data"
    }
   ],
   "source": [
    "train['error'] = 1 - np.max(((train_labels) - oof_preds), axis = 1)\n",
    "train = pd.concat([train, pd.DataFrame(oof_preds, columns=label_mapper.keys())], axis=1)\n",
    "\n",
    "\n",
    "f,ax = plt.subplots(1,1,figsize = [6,4])\n",
    "sns.distplot(train['error'], ax = ax)\n",
    "ax.set_title(\"Classification Errors: Target - Pred Probability\")\n",
    "plt.tight_layout(pad=1)\n",
    "plt.show()"
   ]
  },
  {
   "cell_type": "code",
   "execution_count": 15,
   "metadata": {
    "execution": {
     "iopub.execute_input": "2020-12-13T17:27:19.792339Z",
     "iopub.status.busy": "2020-12-13T17:27:19.791443Z",
     "iopub.status.idle": "2020-12-13T17:27:19.848546Z",
     "shell.execute_reply": "2020-12-13T17:27:19.848070Z"
    },
    "papermill": {
     "duration": 4.236486,
     "end_time": "2020-12-13T17:27:19.848650",
     "exception": false,
     "start_time": "2020-12-13T17:27:15.612164",
     "status": "completed"
    },
    "tags": []
   },
   "outputs": [
    {
     "name": "stdout",
     "output_type": "stream",
     "text": [
      "Logloss: 0.24\n",
      "\n",
      "Confusion Matrix:\n",
      "[[5505  150  389]\n",
      " [ 116 5251  268]\n",
      " [ 419  347 7134]]\n"
     ]
    }
   ],
   "source": [
    "cnf_matrix = confusion_matrix(num_label, np.argmax(oof_preds,axis=1))\n",
    "print(\"Logloss: {:.2f}\".format(log_loss(train_labels, oof_preds)))\n",
    "\n",
    "print(\"\\nConfusion Matrix:\")\n",
    "print(cnf_matrix)"
   ]
  },
  {
   "cell_type": "code",
   "execution_count": 16,
   "metadata": {
    "execution": {
     "iopub.execute_input": "2020-12-13T17:27:28.010464Z",
     "iopub.status.busy": "2020-12-13T17:27:28.009384Z",
     "iopub.status.idle": "2020-12-13T17:27:28.042145Z",
     "shell.execute_reply": "2020-12-13T17:27:28.042626Z"
    },
    "papermill": {
     "duration": 4.223532,
     "end_time": "2020-12-13T17:27:28.042772",
     "exception": false,
     "start_time": "2020-12-13T17:27:23.819240",
     "status": "completed"
    },
    "tags": []
   },
   "outputs": [
    {
     "data": {
      "text/html": [
       "<div>\n",
       "<style scoped>\n",
       "    .dataframe tbody tr th:only-of-type {\n",
       "        vertical-align: middle;\n",
       "    }\n",
       "\n",
       "    .dataframe tbody tr th {\n",
       "        vertical-align: top;\n",
       "    }\n",
       "\n",
       "    .dataframe thead th {\n",
       "        text-align: right;\n",
       "    }\n",
       "</style>\n",
       "<table border=\"1\" class=\"dataframe\">\n",
       "  <thead>\n",
       "    <tr style=\"text-align: right;\">\n",
       "      <th></th>\n",
       "      <th>id</th>\n",
       "      <th>text</th>\n",
       "      <th>author</th>\n",
       "      <th>error</th>\n",
       "      <th>MWS</th>\n",
       "      <th>HPL</th>\n",
       "      <th>EAP</th>\n",
       "    </tr>\n",
       "  </thead>\n",
       "  <tbody>\n",
       "    <tr>\n",
       "      <th>6633</th>\n",
       "      <td>id07450</td>\n",
       "      <td>As the minuteness of the parts formed a great hindrance to my speed, I resolved, contrary to my first intention, to make the being of a gigantic stature, that is to say, about eight feet in height, and proportionably large.</td>\n",
       "      <td>MWS</td>\n",
       "      <td>0.000870</td>\n",
       "      <td>0.000870</td>\n",
       "      <td>0.001039</td>\n",
       "      <td>0.998091</td>\n",
       "    </tr>\n",
       "    <tr>\n",
       "      <th>4097</th>\n",
       "      <td>id12495</td>\n",
       "      <td>Besides, though the violence of her anguish made life hateful, it had not yet produced that monotonous, lethargic sense of changeless misery which for the most part produces suicide.</td>\n",
       "      <td>MWS</td>\n",
       "      <td>0.000877</td>\n",
       "      <td>0.000877</td>\n",
       "      <td>0.996732</td>\n",
       "      <td>0.002391</td>\n",
       "    </tr>\n",
       "    <tr>\n",
       "      <th>13228</th>\n",
       "      <td>id11010</td>\n",
       "      <td>I remembered, too, strange stories told about these Ragged Hills, and of the uncouth and fierce races of men who tenanted their groves and caverns.</td>\n",
       "      <td>EAP</td>\n",
       "      <td>0.001066</td>\n",
       "      <td>0.003481</td>\n",
       "      <td>0.995453</td>\n",
       "      <td>0.001066</td>\n",
       "    </tr>\n",
       "    <tr>\n",
       "      <th>6645</th>\n",
       "      <td>id04525</td>\n",
       "      <td>We had previously opened the doors of all the other rooms on that hall, and flung all the windows to the very top.</td>\n",
       "      <td>HPL</td>\n",
       "      <td>0.001187</td>\n",
       "      <td>0.001124</td>\n",
       "      <td>0.001187</td>\n",
       "      <td>0.997689</td>\n",
       "    </tr>\n",
       "    <tr>\n",
       "      <th>1941</th>\n",
       "      <td>id13985</td>\n",
       "      <td>All of these, however, bore out the notes in full.</td>\n",
       "      <td>HPL</td>\n",
       "      <td>0.001245</td>\n",
       "      <td>0.000584</td>\n",
       "      <td>0.001245</td>\n",
       "      <td>0.998170</td>\n",
       "    </tr>\n",
       "    <tr>\n",
       "      <th>4045</th>\n",
       "      <td>id27048</td>\n",
       "      <td>I remembered also the nervous fever with which I had been seized just at the time that I dated my creation, and which would give an air of delirium to a tale otherwise so utterly improbable.</td>\n",
       "      <td>MWS</td>\n",
       "      <td>0.001268</td>\n",
       "      <td>0.001268</td>\n",
       "      <td>0.983232</td>\n",
       "      <td>0.015500</td>\n",
       "    </tr>\n",
       "    <tr>\n",
       "      <th>13587</th>\n",
       "      <td>id17144</td>\n",
       "      <td>Nature is full of such illusions to impress the imaginative.</td>\n",
       "      <td>HPL</td>\n",
       "      <td>0.001539</td>\n",
       "      <td>0.003015</td>\n",
       "      <td>0.001539</td>\n",
       "      <td>0.995445</td>\n",
       "    </tr>\n",
       "    <tr>\n",
       "      <th>1780</th>\n",
       "      <td>id18191</td>\n",
       "      <td>In the midst of these reflections, as if dramatically arranged to intensify them, there fell near by a terrific bolt of lightning followed by the sound of sliding earth.</td>\n",
       "      <td>HPL</td>\n",
       "      <td>0.001639</td>\n",
       "      <td>0.001440</td>\n",
       "      <td>0.001639</td>\n",
       "      <td>0.996921</td>\n",
       "    </tr>\n",
       "    <tr>\n",
       "      <th>12536</th>\n",
       "      <td>id15330</td>\n",
       "      <td>Through this crevice a small room was visible, whitewashed and clean but very bare of furniture.</td>\n",
       "      <td>MWS</td>\n",
       "      <td>0.001683</td>\n",
       "      <td>0.001683</td>\n",
       "      <td>0.996237</td>\n",
       "      <td>0.002080</td>\n",
       "    </tr>\n",
       "    <tr>\n",
       "      <th>3050</th>\n",
       "      <td>id27194</td>\n",
       "      <td>Gradually the object of fear sank beneath the horizon, and to the last shot up shadowy beams into the otherwise radiant air.</td>\n",
       "      <td>MWS</td>\n",
       "      <td>0.001760</td>\n",
       "      <td>0.001760</td>\n",
       "      <td>0.986320</td>\n",
       "      <td>0.011920</td>\n",
       "    </tr>\n",
       "    <tr>\n",
       "      <th>10861</th>\n",
       "      <td>id27609</td>\n",
       "      <td>\"Let him discourse; it will ease his conscience, I am satisfied with having defeated him in his own castle.</td>\n",
       "      <td>EAP</td>\n",
       "      <td>0.001814</td>\n",
       "      <td>0.994408</td>\n",
       "      <td>0.003779</td>\n",
       "      <td>0.001814</td>\n",
       "    </tr>\n",
       "    <tr>\n",
       "      <th>19450</th>\n",
       "      <td>id07988</td>\n",
       "      <td>His voice, usually gentle, often startled you by a sharp discordant note, which shewed that his usual low tone was rather the work of study than nature.</td>\n",
       "      <td>MWS</td>\n",
       "      <td>0.001866</td>\n",
       "      <td>0.001866</td>\n",
       "      <td>0.988819</td>\n",
       "      <td>0.009315</td>\n",
       "    </tr>\n",
       "    <tr>\n",
       "      <th>5026</th>\n",
       "      <td>id02794</td>\n",
       "      <td>\"The family, after having been thus occupied for a short time, extinguished their lights and retired, as I conjectured, to rest.\"</td>\n",
       "      <td>MWS</td>\n",
       "      <td>0.001880</td>\n",
       "      <td>0.001880</td>\n",
       "      <td>0.001298</td>\n",
       "      <td>0.996822</td>\n",
       "    </tr>\n",
       "    <tr>\n",
       "      <th>11427</th>\n",
       "      <td>id00891</td>\n",
       "      <td>\"Can you dare you go far?\"</td>\n",
       "      <td>HPL</td>\n",
       "      <td>0.002096</td>\n",
       "      <td>0.876911</td>\n",
       "      <td>0.002096</td>\n",
       "      <td>0.120993</td>\n",
       "    </tr>\n",
       "    <tr>\n",
       "      <th>4288</th>\n",
       "      <td>id04202</td>\n",
       "      <td>There were two armlets, a tiara, and a kind of pectoral; the latter having in high relief certain figures of almost unbearable extravagance.</td>\n",
       "      <td>HPL</td>\n",
       "      <td>0.002151</td>\n",
       "      <td>0.001029</td>\n",
       "      <td>0.002151</td>\n",
       "      <td>0.996819</td>\n",
       "    </tr>\n",
       "    <tr>\n",
       "      <th>2514</th>\n",
       "      <td>id07387</td>\n",
       "      <td>How little does the earth self know of life and its extent How little, indeed, ought it to know for its own tranquillity Of the oppressor I cannot speak.</td>\n",
       "      <td>HPL</td>\n",
       "      <td>0.002231</td>\n",
       "      <td>0.003362</td>\n",
       "      <td>0.002231</td>\n",
       "      <td>0.994406</td>\n",
       "    </tr>\n",
       "    <tr>\n",
       "      <th>5225</th>\n",
       "      <td>id25035</td>\n",
       "      <td>I confess, that I have not been unmoved by the development of the tale; and that I have been depressed, nay, agonized, at some parts of the recital, which I have faithfully transcribed from my materials.</td>\n",
       "      <td>MWS</td>\n",
       "      <td>0.002283</td>\n",
       "      <td>0.002283</td>\n",
       "      <td>0.013971</td>\n",
       "      <td>0.983746</td>\n",
       "    </tr>\n",
       "    <tr>\n",
       "      <th>16674</th>\n",
       "      <td>id04954</td>\n",
       "      <td>The silence of midnight, to speak truly, though apparently a paradox, rung in my ears.</td>\n",
       "      <td>MWS</td>\n",
       "      <td>0.002313</td>\n",
       "      <td>0.002313</td>\n",
       "      <td>0.001126</td>\n",
       "      <td>0.996561</td>\n",
       "    </tr>\n",
       "    <tr>\n",
       "      <th>7985</th>\n",
       "      <td>id18983</td>\n",
       "      <td>Have any of you, my readers, observed the ruins of an anthill immediately after its destruction?</td>\n",
       "      <td>MWS</td>\n",
       "      <td>0.002556</td>\n",
       "      <td>0.002556</td>\n",
       "      <td>0.011593</td>\n",
       "      <td>0.985851</td>\n",
       "    </tr>\n",
       "    <tr>\n",
       "      <th>10463</th>\n",
       "      <td>id24064</td>\n",
       "      <td>It became a question whether he had fallen among the unrecognized; but no broken ornament or stained trapping betrayed his fate.</td>\n",
       "      <td>MWS</td>\n",
       "      <td>0.002630</td>\n",
       "      <td>0.002630</td>\n",
       "      <td>0.995963</td>\n",
       "      <td>0.001407</td>\n",
       "    </tr>\n",
       "  </tbody>\n",
       "</table>\n",
       "</div>"
      ],
      "text/plain": [
       "            id  \\\n",
       "6633   id07450   \n",
       "4097   id12495   \n",
       "13228  id11010   \n",
       "6645   id04525   \n",
       "1941   id13985   \n",
       "4045   id27048   \n",
       "13587  id17144   \n",
       "1780   id18191   \n",
       "12536  id15330   \n",
       "3050   id27194   \n",
       "10861  id27609   \n",
       "19450  id07988   \n",
       "5026   id02794   \n",
       "11427  id00891   \n",
       "4288   id04202   \n",
       "2514   id07387   \n",
       "5225   id25035   \n",
       "16674  id04954   \n",
       "7985   id18983   \n",
       "10463  id24064   \n",
       "\n",
       "                                                                                                                                                                                                                                  text  \\\n",
       "6633   As the minuteness of the parts formed a great hindrance to my speed, I resolved, contrary to my first intention, to make the being of a gigantic stature, that is to say, about eight feet in height, and proportionably large.   \n",
       "4097                                            Besides, though the violence of her anguish made life hateful, it had not yet produced that monotonous, lethargic sense of changeless misery which for the most part produces suicide.   \n",
       "13228                                                                              I remembered, too, strange stories told about these Ragged Hills, and of the uncouth and fierce races of men who tenanted their groves and caverns.   \n",
       "6645                                                                                                                We had previously opened the doors of all the other rooms on that hall, and flung all the windows to the very top.   \n",
       "1941                                                                                                                                                                                All of these, however, bore out the notes in full.   \n",
       "4045                                    I remembered also the nervous fever with which I had been seized just at the time that I dated my creation, and which would give an air of delirium to a tale otherwise so utterly improbable.   \n",
       "13587                                                                                                                                                                     Nature is full of such illusions to impress the imaginative.   \n",
       "1780                                                         In the midst of these reflections, as if dramatically arranged to intensify them, there fell near by a terrific bolt of lightning followed by the sound of sliding earth.   \n",
       "12536                                                                                                                                 Through this crevice a small room was visible, whitewashed and clean but very bare of furniture.   \n",
       "3050                                                                                                      Gradually the object of fear sank beneath the horizon, and to the last shot up shadowy beams into the otherwise radiant air.   \n",
       "10861                                                                                                                      \"Let him discourse; it will ease his conscience, I am satisfied with having defeated him in his own castle.   \n",
       "19450                                                                         His voice, usually gentle, often startled you by a sharp discordant note, which shewed that his usual low tone was rather the work of study than nature.   \n",
       "5026                                                                                                 \"The family, after having been thus occupied for a short time, extinguished their lights and retired, as I conjectured, to rest.\"   \n",
       "11427                                                                                                                                                                                                       \"Can you dare you go far?\"   \n",
       "4288                                                                                      There were two armlets, a tiara, and a kind of pectoral; the latter having in high relief certain figures of almost unbearable extravagance.   \n",
       "2514                                                                         How little does the earth self know of life and its extent How little, indeed, ought it to know for its own tranquillity Of the oppressor I cannot speak.   \n",
       "5225                       I confess, that I have not been unmoved by the development of the tale; and that I have been depressed, nay, agonized, at some parts of the recital, which I have faithfully transcribed from my materials.   \n",
       "16674                                                                                                                                           The silence of midnight, to speak truly, though apparently a paradox, rung in my ears.   \n",
       "7985                                                                                                                                  Have any of you, my readers, observed the ruins of an anthill immediately after its destruction?   \n",
       "10463                                                                                                 It became a question whether he had fallen among the unrecognized; but no broken ornament or stained trapping betrayed his fate.   \n",
       "\n",
       "      author     error       MWS       HPL       EAP  \n",
       "6633     MWS  0.000870  0.000870  0.001039  0.998091  \n",
       "4097     MWS  0.000877  0.000877  0.996732  0.002391  \n",
       "13228    EAP  0.001066  0.003481  0.995453  0.001066  \n",
       "6645     HPL  0.001187  0.001124  0.001187  0.997689  \n",
       "1941     HPL  0.001245  0.000584  0.001245  0.998170  \n",
       "4045     MWS  0.001268  0.001268  0.983232  0.015500  \n",
       "13587    HPL  0.001539  0.003015  0.001539  0.995445  \n",
       "1780     HPL  0.001639  0.001440  0.001639  0.996921  \n",
       "12536    MWS  0.001683  0.001683  0.996237  0.002080  \n",
       "3050     MWS  0.001760  0.001760  0.986320  0.011920  \n",
       "10861    EAP  0.001814  0.994408  0.003779  0.001814  \n",
       "19450    MWS  0.001866  0.001866  0.988819  0.009315  \n",
       "5026     MWS  0.001880  0.001880  0.001298  0.996822  \n",
       "11427    HPL  0.002096  0.876911  0.002096  0.120993  \n",
       "4288     HPL  0.002151  0.001029  0.002151  0.996819  \n",
       "2514     HPL  0.002231  0.003362  0.002231  0.994406  \n",
       "5225     MWS  0.002283  0.002283  0.013971  0.983746  \n",
       "16674    MWS  0.002313  0.002313  0.001126  0.996561  \n",
       "7985     MWS  0.002556  0.002556  0.011593  0.985851  \n",
       "10463    MWS  0.002630  0.002630  0.995963  0.001407  "
      ]
     },
     "metadata": {},
     "output_type": "display_data"
    }
   ],
   "source": [
    "show_cols = [\n",
    "    'id',\n",
    "    TEXTCOL,\n",
    "    TARGETCOL,\n",
    "    'error'] + list(label_mapper.keys())\n",
    "\n",
    "display(train[show_cols].sort_values(by = 'error', ascending=True).iloc[:20])"
   ]
  },
  {
   "cell_type": "code",
   "execution_count": 17,
   "metadata": {
    "execution": {
     "iopub.execute_input": "2020-12-13T17:27:36.306913Z",
     "iopub.status.busy": "2020-12-13T17:27:36.306282Z",
     "iopub.status.idle": "2020-12-13T17:27:36.330165Z",
     "shell.execute_reply": "2020-12-13T17:27:36.329659Z"
    },
    "papermill": {
     "duration": 3.956142,
     "end_time": "2020-12-13T17:27:36.330269",
     "exception": false,
     "start_time": "2020-12-13T17:27:32.374127",
     "status": "completed"
    },
    "tags": []
   },
   "outputs": [
    {
     "data": {
      "text/html": [
       "<div>\n",
       "<style scoped>\n",
       "    .dataframe tbody tr th:only-of-type {\n",
       "        vertical-align: middle;\n",
       "    }\n",
       "\n",
       "    .dataframe tbody tr th {\n",
       "        vertical-align: top;\n",
       "    }\n",
       "\n",
       "    .dataframe thead th {\n",
       "        text-align: right;\n",
       "    }\n",
       "</style>\n",
       "<table border=\"1\" class=\"dataframe\">\n",
       "  <thead>\n",
       "    <tr style=\"text-align: right;\">\n",
       "      <th></th>\n",
       "      <th>0</th>\n",
       "      <th>1</th>\n",
       "      <th>2</th>\n",
       "    </tr>\n",
       "  </thead>\n",
       "  <tbody>\n",
       "    <tr>\n",
       "      <th>count</th>\n",
       "      <td>8392.000000</td>\n",
       "      <td>8392.000000</td>\n",
       "      <td>8392.000000</td>\n",
       "    </tr>\n",
       "    <tr>\n",
       "      <th>mean</th>\n",
       "      <td>0.303894</td>\n",
       "      <td>0.293733</td>\n",
       "      <td>0.402372</td>\n",
       "    </tr>\n",
       "    <tr>\n",
       "      <th>std</th>\n",
       "      <td>0.410872</td>\n",
       "      <td>0.412016</td>\n",
       "      <td>0.429881</td>\n",
       "    </tr>\n",
       "    <tr>\n",
       "      <th>min</th>\n",
       "      <td>0.000513</td>\n",
       "      <td>0.000596</td>\n",
       "      <td>0.000902</td>\n",
       "    </tr>\n",
       "    <tr>\n",
       "      <th>25%</th>\n",
       "      <td>0.002873</td>\n",
       "      <td>0.003154</td>\n",
       "      <td>0.007501</td>\n",
       "    </tr>\n",
       "    <tr>\n",
       "      <th>50%</th>\n",
       "      <td>0.020259</td>\n",
       "      <td>0.017497</td>\n",
       "      <td>0.129446</td>\n",
       "    </tr>\n",
       "    <tr>\n",
       "      <th>75%</th>\n",
       "      <td>0.807636</td>\n",
       "      <td>0.756849</td>\n",
       "      <td>0.937051</td>\n",
       "    </tr>\n",
       "    <tr>\n",
       "      <th>max</th>\n",
       "      <td>0.997492</td>\n",
       "      <td>0.998052</td>\n",
       "      <td>0.998444</td>\n",
       "    </tr>\n",
       "  </tbody>\n",
       "</table>\n",
       "</div>"
      ],
      "text/plain": [
       "                 0            1            2\n",
       "count  8392.000000  8392.000000  8392.000000\n",
       "mean      0.303894     0.293733     0.402372\n",
       "std       0.410872     0.412016     0.429881\n",
       "min       0.000513     0.000596     0.000902\n",
       "25%       0.002873     0.003154     0.007501\n",
       "50%       0.020259     0.017497     0.129446\n",
       "75%       0.807636     0.756849     0.937051\n",
       "max       0.997492     0.998052     0.998444"
      ]
     },
     "execution_count": 17,
     "metadata": {},
     "output_type": "execute_result"
    }
   ],
   "source": [
    "final_pred = test_preds/n_splits\n",
    "pd.DataFrame(final_pred).describe()"
   ]
  },
  {
   "cell_type": "code",
   "execution_count": 18,
   "metadata": {
    "execution": {
     "iopub.execute_input": "2020-12-13T17:27:44.443794Z",
     "iopub.status.busy": "2020-12-13T17:27:44.443175Z",
     "iopub.status.idle": "2020-12-13T17:27:44.815018Z",
     "shell.execute_reply": "2020-12-13T17:27:44.815790Z"
    },
    "papermill": {
     "duration": 4.30806,
     "end_time": "2020-12-13T17:27:44.815930",
     "exception": false,
     "start_time": "2020-12-13T17:27:40.507870",
     "status": "completed"
    },
    "tags": []
   },
   "outputs": [
    {
     "name": "stdout",
     "output_type": "stream",
     "text": [
      "(8392, 4)\n"
     ]
    }
   ],
   "source": [
    "submission = pd.DataFrame(final_pred, columns=label_mapper.keys())\n",
    "submission['id'] = testdex\n",
    "\n",
    "submission = submission[sub_cols]\n",
    "submission.to_csv('submission_bert.csv', index=False)\n",
    "print(submission.shape)"
   ]
  },
  {
   "cell_type": "code",
   "execution_count": 19,
   "metadata": {
    "execution": {
     "iopub.execute_input": "2020-12-13T17:27:52.943482Z",
     "iopub.status.busy": "2020-12-13T17:27:52.942669Z",
     "iopub.status.idle": "2020-12-13T17:27:53.754551Z",
     "shell.execute_reply": "2020-12-13T17:27:53.754006Z"
    },
    "papermill": {
     "duration": 4.971902,
     "end_time": "2020-12-13T17:27:53.754654",
     "exception": false,
     "start_time": "2020-12-13T17:27:48.782752",
     "status": "completed"
    },
    "tags": []
   },
   "outputs": [
    {
     "name": "stdout",
     "output_type": "stream",
     "text": [
      "id,EAP,HPL,MWS\r\n",
      "id02310,0.007038029143586755,0.008498638635501266,0.9844633539517721\r\n",
      "id24541,0.9275180498758951,0.06374192206809919,0.008740035351365805\r\n",
      "id00134,0.0013636491106202204,0.9979280829429626,0.0007082544713436315\r\n",
      "id27757,0.7238655289014181,0.272758886218071,0.003375632300352057\r\n",
      "id04081,0.9559254248936971,0.04031749566396078,0.0037570808393259845\r\n",
      "id27337,0.9965609709421793,0.001430683924506108,0.002008377651994427\r\n",
      "id24265,0.9747701088587443,0.0031217477517202497,0.022108170048644144\r\n",
      "id25917,0.003923775861039758,0.01721559775372346,0.9788606365521749\r\n",
      "id04951,0.9969030022621155,0.0016996708776180942,0.0013973346600929897\r\n"
     ]
    }
   ],
   "source": [
    "!head submission_bert.csv"
   ]
  },
  {
   "cell_type": "code",
   "execution_count": 20,
   "metadata": {
    "execution": {
     "iopub.execute_input": "2020-12-13T17:28:01.931217Z",
     "iopub.status.busy": "2020-12-13T17:28:01.930222Z",
     "iopub.status.idle": "2020-12-13T17:28:02.180551Z",
     "shell.execute_reply": "2020-12-13T17:28:02.181399Z"
    },
    "papermill": {
     "duration": 4.449827,
     "end_time": "2020-12-13T17:28:02.181635",
     "exception": false,
     "start_time": "2020-12-13T17:27:57.731808",
     "status": "completed"
    },
    "tags": []
   },
   "outputs": [
    {
     "name": "stdout",
     "output_type": "stream",
     "text": [
      "(19579, 3)\n"
     ]
    }
   ],
   "source": [
    "oof_pd = pd.DataFrame(oof_preds/n_splits, columns = label_mapper.keys())\n",
    "oof_pd.to_csv(\"oof_dense_bert.csv\")\n",
    "print(oof_pd.shape)"
   ]
  },
  {
   "cell_type": "code",
   "execution_count": 21,
   "metadata": {
    "execution": {
     "iopub.execute_input": "2020-12-13T17:28:11.386441Z",
     "iopub.status.busy": "2020-12-13T17:28:11.385642Z",
     "iopub.status.idle": "2020-12-13T17:28:11.389258Z",
     "shell.execute_reply": "2020-12-13T17:28:11.387157Z"
    },
    "papermill": {
     "duration": 4.129819,
     "end_time": "2020-12-13T17:28:11.389410",
     "exception": false,
     "start_time": "2020-12-13T17:28:07.259591",
     "status": "completed"
    },
    "tags": []
   },
   "outputs": [
    {
     "name": "stdout",
     "output_type": "stream",
     "text": [
      "Notebook Runtime: 112.70 Minutes\n"
     ]
    }
   ],
   "source": [
    "print(\"Notebook Runtime: %0.2f Minutes\"%((time.time() - notebookstart)/60))"
   ]
  },
  {
   "cell_type": "code",
   "execution_count": null,
   "metadata": {
    "papermill": {
     "duration": 3.944098,
     "end_time": "2020-12-13T17:28:19.445854",
     "exception": false,
     "start_time": "2020-12-13T17:28:15.501756",
     "status": "completed"
    },
    "tags": []
   },
   "outputs": [],
   "source": []
  }
 ],
 "metadata": {
  "kernelspec": {
   "display_name": "Python 3",
   "language": "python",
   "name": "python3"
  },
  "language_info": {
   "codemirror_mode": {
    "name": "ipython",
    "version": 3
   },
   "file_extension": ".py",
   "mimetype": "text/x-python",
   "name": "python",
   "nbconvert_exporter": "python",
   "pygments_lexer": "ipython3",
   "version": "3.7.6"
  },
  "papermill": {
   "duration": 6788.56776,
   "end_time": "2020-12-13T17:28:25.102194",
   "environment_variables": {},
   "exception": null,
   "input_path": "__notebook__.ipynb",
   "output_path": "__notebook__.ipynb",
   "parameters": {},
   "start_time": "2020-12-13T15:35:16.534434",
   "version": "2.1.0"
  }
 },
 "nbformat": 4,
 "nbformat_minor": 4
}
